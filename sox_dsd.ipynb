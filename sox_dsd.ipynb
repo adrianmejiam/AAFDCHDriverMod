{
  "nbformat": 4,
  "nbformat_minor": 0,
  "metadata": {
    "colab": {
      "provenance": [],
      "name": "sox-dsd.ipynb",
      "authorship_tag": "ABX9TyMwo7yzRV8+Gyo6ySUU0Iz4",
      "include_colab_link": true
    },
    "kernelspec": {
      "name": "python3",
      "display_name": "Python 3"
    },
    "language_info": {
      "name": "python"
    }
  },
  "cells": [
    {
      "cell_type": "markdown",
      "metadata": {
        "id": "view-in-github",
        "colab_type": "text"
      },
      "source": [
        "<a href=\"https://colab.research.google.com/github/adrianmejiam/AAFDCHDriverMod/blob/master/sox_dsd.ipynb\" target=\"_parent\"><img src=\"https://colab.research.google.com/assets/colab-badge.svg\" alt=\"Open In Colab\"/></a>"
      ]
    },
    {
      "cell_type": "code",
      "execution_count": null,
      "metadata": {
        "colab": {
          "base_uri": "https://localhost:8080/"
        },
        "id": "fYfmYI8_TJLl",
        "outputId": "ddcd2d92-c9ea-4045-ae3b-d0040194f214"
      },
      "outputs": [
        {
          "output_type": "stream",
          "name": "stdout",
          "text": [
            "--2025-08-09 05:41:04--  https://audiofaidate.org/sw/sox-dsd/sox-dsd-linux-gnu-amd64.zip\n",
            "Resolving audiofaidate.org (audiofaidate.org)... 217.160.0.12, 2001:8d8:100f:f000::200\n",
            "Connecting to audiofaidate.org (audiofaidate.org)|217.160.0.12|:443... connected.\n",
            "HTTP request sent, awaiting response... 200 OK\n",
            "Length: 1239514 (1.2M) [application/zip]\n",
            "Saving to: ‘sox-dsd-linux-gnu-amd64.zip.1’\n",
            "\n",
            "sox-dsd-linux-gnu-a 100%[===================>]   1.18M  1.34MB/s    in 0.9s    \n",
            "\n",
            "2025-08-09 05:41:06 (1.34 MB/s) - ‘sox-dsd-linux-gnu-amd64.zip.1’ saved [1239514/1239514]\n",
            "\n"
          ]
        }
      ],
      "source": [
        "!wget https://audiofaidate.org/sw/sox-dsd/sox-dsd-linux-gnu-amd64.zip"
      ]
    },
    {
      "cell_type": "code",
      "source": [
        "ls"
      ],
      "metadata": {
        "colab": {
          "base_uri": "https://localhost:8080/"
        },
        "id": "fGMS1VfoTO1S",
        "outputId": "23d49a5d-c437-48a6-d551-0b249acbedf4"
      },
      "execution_count": null,
      "outputs": [
        {
          "output_type": "stream",
          "name": "stdout",
          "text": [
            "\u001b[0m\u001b[01;34msample_data\u001b[0m/  sox-dsd-linux-gnu-amd64.zip\n"
          ]
        }
      ]
    },
    {
      "cell_type": "code",
      "source": [
        "!unzip sox-dsd-linux-gnu-amd64.zip"
      ],
      "metadata": {
        "colab": {
          "base_uri": "https://localhost:8080/"
        },
        "id": "o50Q5AzkTR_Y",
        "outputId": "5b966745-b8d3-4278-871f-20c25be305f3"
      },
      "execution_count": null,
      "outputs": [
        {
          "output_type": "stream",
          "name": "stdout",
          "text": [
            "Archive:  sox-dsd-linux-gnu-amd64.zip\n",
            "replace sox-dsd-linux-gnu-amd64? [y]es, [n]o, [A]ll, [N]one, [r]ename: N\n"
          ]
        }
      ]
    },
    {
      "cell_type": "code",
      "source": [
        "ls"
      ],
      "metadata": {
        "colab": {
          "base_uri": "https://localhost:8080/"
        },
        "id": "OCb-vBlJTVUT",
        "outputId": "89029eeb-aae1-4f5f-b294-6404e619ee26"
      },
      "execution_count": null,
      "outputs": [
        {
          "output_type": "stream",
          "name": "stdout",
          "text": [
            "\u001b[0m\u001b[01;34msample_data\u001b[0m/  \u001b[01;32msox-dsd-linux-gnu-amd64\u001b[0m*  sox-dsd-linux-gnu-amd64.zip\n"
          ]
        }
      ]
    },
    {
      "cell_type": "code",
      "source": [
        "!./sox-dsd-linux-gnu-amd64 -h"
      ],
      "metadata": {
        "colab": {
          "base_uri": "https://localhost:8080/"
        },
        "id": "olFoDiMsTYLW",
        "outputId": "d4e11296-69a5-4a64-bb5e-43ed4d99e5d4"
      },
      "execution_count": null,
      "outputs": [
        {
          "output_type": "stream",
          "name": "stdout",
          "text": [
            "./sox-dsd-linux-gnu-amd64:      SoX v14.4.2\n",
            "\n",
            "Usage summary: [gopts] [[fopts] infile]... [fopts] outfile [effect [effopt]]...\n",
            "\n",
            "SPECIAL FILENAMES (infile, outfile):\n",
            "-                        Pipe/redirect input/output (stdin/stdout); may need -t\n",
            "-d, --default-device     Use the default audio device (where available)\n",
            "-n, --null               Use the `null' file handler; e.g. with synth effect\n",
            "-p, --sox-pipe           Alias for `-t sox -'\n",
            "\n",
            "SPECIAL FILENAMES (infile only):\n",
            "\"|program [options] ...\" Pipe input from external program (where supported)\n",
            "http://server/file       Use the given URL as input file (where supported)\n",
            "\n",
            "GLOBAL OPTIONS (gopts) (can be specified at any point before the first effect):\n",
            "--buffer BYTES           Set the size of all processing buffers (default 8192)\n",
            "--clobber                Don't prompt to overwrite output file (default)\n",
            "--combine concatenate    Concatenate all input files (default for sox, rec)\n",
            "--combine sequence       Sequence all input files (default for play)\n",
            "-D, --no-dither          Don't dither automatically\n",
            "--dft-min NUM            Minimum size (log2) for DFT processing (default 10)\n",
            "--effects-file FILENAME  File containing effects and options\n",
            "-G, --guard              Use temporary files to guard against clipping\n",
            "-h, --help               Display version number and usage information\n",
            "--help-effect NAME       Show usage of effect NAME, or NAME=all for all\n",
            "--help-format NAME       Show info on format NAME, or NAME=all for all\n",
            "--i, --info              Behave as soxi(1)\n",
            "--input-buffer BYTES     Override the input buffer size (default: as --buffer)\n",
            "--no-clobber             Prompt to overwrite output file\n",
            "-m, --combine mix        Mix multiple input files (instead of concatenating)\n",
            "--combine mix-power      Mix to equal power (instead of concatenating)\n",
            "-M, --combine merge      Merge multiple input files (instead of concatenating)\n",
            "--norm                   Guard (see --guard) & normalise\n",
            "--play-rate-arg ARG      Default `rate' argument for auto-resample with `play'\n",
            "--plot gnuplot|octave    Generate script to plot response of filter effect\n",
            "-q, --no-show-progress   Run in quiet mode; opposite of -S\n",
            "--replay-gain track|album|off  Default: off (sox, rec), track (play)\n",
            "-R                       Use default random numbers (same on each run of SoX)\n",
            "-S, --show-progress      Display progress while processing audio data\n",
            "--single-threaded        Disable parallel effects channels processing\n",
            "--temp DIRECTORY         Specify the directory to use for temporary files\n",
            "-T, --combine multiply   Multiply samples of corresponding channels from all\n",
            "                         input files (instead of concatenating)\n",
            "--version                Display version number of SoX and exit\n",
            "-V[LEVEL]                Increment or set verbosity level (default 2); levels:\n",
            "                           1: failure messages\n",
            "                           2: warnings\n",
            "                           3: details of processing\n",
            "                           4-6: increasing levels of debug messages\n",
            "FORMAT OPTIONS (fopts):\n",
            "Input file format options need only be supplied for files that are headerless.\n",
            "Output files will have the same format as the input file where possible and not\n",
            "overridden by any of various means including providing output format options.\n",
            "\n",
            "-v|--volume FACTOR       Input file volume adjustment factor (real number)\n",
            "--ignore-length          Ignore input file length given in header; read to EOF\n",
            "-t|--type FILETYPE       File type of audio\n",
            "-e|--encoding ENCODING   Set encoding (ENCODING may be one of signed-integer,\n",
            "                         unsigned-integer, floating-point, mu-law, a-law,\n",
            "                         ima-adpcm, ms-adpcm, gsm-full-rate)\n",
            "-b|--bits BITS           Encoded sample size in bits\n",
            "-N|--reverse-nibbles     Encoded nibble-order\n",
            "-X|--reverse-bits        Encoded bit-order\n",
            "--endian little|big|swap Encoded byte-order; swap means opposite to default\n",
            "-L/-B/-x                 Short options for the above\n",
            "-c|--channels CHANNELS   Number of channels of audio data; e.g. 2 = stereo\n",
            "-r|--rate RATE           Sample rate of audio\n",
            "-C|--compression FACTOR  Compression factor for output format\n",
            "--add-comment TEXT       Append output file comment\n",
            "--comment TEXT           Specify comment text for the output file\n",
            "--comment-file FILENAME  File containing comment text for the output file\n",
            "--no-glob                Don't `glob' wildcard match the following filename\n",
            "\n",
            "AUDIO FILE FORMATS: 8svx aif aifc aiff aiffc al amb au avr cdda cdr cvs cvsd cvu dat dff dsf dvms f32 f4 f64 f8 flac fssd gsm gsrt hcom htk ima ircam la lpc lpc10 lu maud mp2 mp3 nist ogg prc raw s1 s16 s2 s24 s3 s32 s4 s8 sb sf sl sln smp snd sndr sndt sou sox sph sw txw u1 u16 u2 u24 u3 u32 u4 u8 ub ul uw vms voc vorbis vox wav wavpcm wsd wv wve xa\n",
            "PLAYLIST FORMATS: m3u pls\n",
            "AUDIO DEVICE DRIVERS: oss ossdsp\n",
            "\n",
            "EFFECTS: allpass band bandpass bandreject bass bend biquad chorus channels compand contrast dcshift deemph delay dither divide+ dop downsample earwax echo echos equalizer fade fir firfit+ flanger gain highpass hilbert input# loudness lowpass mcompand noiseprof noisered norm oops output# overdrive pad phaser pitch rate remix repeat reverb reverse riaa sdm silence sinc spectrogram speed splice stat stats stretch swap synth tempo treble tremolo trim upsample vad vol\n",
            "  * Deprecated effect    + Experimental effect    # LibSoX-only effect\n",
            "EFFECT OPTIONS (effopts): effect dependent; see --help-effect\n"
          ]
        }
      ]
    },
    {
      "cell_type": "code",
      "source": [
        "!./sox-dsd-linux-gnu-amd64 '/content/Sweet.flac' '/content/Sweet.dsf' rate -v 5644800 sdm -f clans-4"
      ],
      "metadata": {
        "colab": {
          "base_uri": "https://localhost:8080/"
        },
        "id": "paKY5zDYWbYC",
        "outputId": "743517ce-8c2e-487d-917b-7c48008cc3e8"
      },
      "execution_count": null,
      "outputs": [
        {
          "output_type": "stream",
          "name": "stdout",
          "text": [
            "./sox-dsd-linux-gnu-amd64 WARN rate: rate clipped 26250 samples; decrease volume?\n"
          ]
        }
      ]
    },
    {
      "cell_type": "code",
      "source": [
        "ls"
      ],
      "metadata": {
        "colab": {
          "base_uri": "https://localhost:8080/"
        },
        "id": "ocvK6bmNYLFq",
        "outputId": "edfed442-96ea-418b-cb61-3d31974183a9"
      },
      "execution_count": null,
      "outputs": [
        {
          "output_type": "stream",
          "name": "stdout",
          "text": [
            "\u001b[0m\u001b[01;34mdrive\u001b[0m/                    sox-dsd-linux-gnu-amd64.zip    Sweet.flac\n",
            "\u001b[01;34msample_data\u001b[0m/              sox-dsd-linux-gnu-amd64.zip.1\n",
            "\u001b[01;32msox-dsd-linux-gnu-amd64\u001b[0m*  Sweet.dsf\n"
          ]
        }
      ]
    },
    {
      "cell_type": "code",
      "source": [
        "!mv '/content/Sweet.dsf' '/content/drive/MyDrive/DSD OF'"
      ],
      "metadata": {
        "id": "3Qar2OLLYPA9"
      },
      "execution_count": null,
      "outputs": []
    },
    {
      "cell_type": "code",
      "source": [
        "Converting PCM to PDM (DSD64):\n",
        "sox input.wav output.dsf rate -v 2822400 sdm -f sdm-8\n",
        "\n",
        "Converting PCM to PDM (DSD128):\n",
        "sox input.wav output.dsf rate -v 5644800 sdm -f clans-4"
      ],
      "metadata": {
        "id": "bEJyK_VhnHPu"
      },
      "execution_count": null,
      "outputs": []
    }
  ]
}