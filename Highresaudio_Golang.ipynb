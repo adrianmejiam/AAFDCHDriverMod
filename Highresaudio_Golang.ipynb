{
  "nbformat": 4,
  "nbformat_minor": 0,
  "metadata": {
    "colab": {
      "provenance": [],
      "mount_file_id": "1ntszkzXSYc98lPNfbBHvIKC4lxrQezI6",
      "authorship_tag": "ABX9TyOiHV2AmPXElak7y6lad1nQ",
      "include_colab_link": true
    },
    "kernelspec": {
      "name": "python3",
      "display_name": "Python 3"
    },
    "language_info": {
      "name": "python"
    }
  },
  "cells": [
    {
      "cell_type": "markdown",
      "metadata": {
        "id": "view-in-github",
        "colab_type": "text"
      },
      "source": [
        "<a href=\"https://colab.research.google.com/github/adrianmejiam/AAFDCHDriverMod/blob/master/Highresaudio_Golang.ipynb\" target=\"_parent\"><img src=\"https://colab.research.google.com/assets/colab-badge.svg\" alt=\"Open In Colab\"/></a>"
      ]
    },
    {
      "cell_type": "code",
      "execution_count": null,
      "metadata": {
        "colab": {
          "base_uri": "https://localhost:8080/"
        },
        "id": "bp7zr8EOvPgG",
        "outputId": "8f39d5db-dfe5-4b85-e1cd-8056f4a2079d"
      },
      "outputs": [
        {
          "output_type": "stream",
          "name": "stdout",
          "text": [
            "Cloning into 'HRA-Downloader'...\n",
            "remote: Enumerating objects: 32, done.\u001b[K\n",
            "remote: Counting objects: 100% (32/32), done.\u001b[K\n",
            "remote: Compressing objects: 100% (29/29), done.\u001b[K\n",
            "remote: Total 32 (delta 12), reused 0 (delta 0), pack-reused 0 (from 0)\u001b[K\n",
            "Receiving objects: 100% (32/32), 13.89 KiB | 6.94 MiB/s, done.\n",
            "Resolving deltas: 100% (12/12), done.\n"
          ]
        }
      ],
      "source": [
        "!git clone https://github.com/Sorrow446/HRA-Downloader.git"
      ]
    },
    {
      "cell_type": "code",
      "source": [
        "cd HRA-Downloader"
      ],
      "metadata": {
        "colab": {
          "base_uri": "https://localhost:8080/"
        },
        "id": "JJ9qHkhJvj6z",
        "outputId": "7e294ceb-db55-4257-8ef4-d6a7e436ddd4"
      },
      "execution_count": null,
      "outputs": [
        {
          "output_type": "stream",
          "name": "stdout",
          "text": [
            "/content/HRA-Downloader\n"
          ]
        }
      ]
    },
    {
      "cell_type": "code",
      "source": [
        "!add-apt-repository ppa:longsleep/golang-backports -y\n",
        "!apt update\n",
        "!apt install golang-go\n",
        "%env GOPATH=/root/go\n",
        "!go get -u github.com/gopherdata/gophernotes\n",
        "!cp ~/go/bin/gophernotes /usr/bin/\n",
        "!mkdir /usr/local/share/jupyter/kernels/gophernotes\n",
        "!cp ~/go/src/github.com/gopherdata/gophernotes/kernel/* \\\n",
        "       /usr/local/share/jupyter/kernels/gophernotes\n",
        "# then refresh, it will now use gophernotes."
      ],
      "metadata": {
        "colab": {
          "base_uri": "https://localhost:8080/"
        },
        "id": "czIfPEs5xr-a",
        "outputId": "673df5ab-9b64-4d30-9e20-4e715824842a"
      },
      "execution_count": null,
      "outputs": [
        {
          "output_type": "stream",
          "name": "stdout",
          "text": [
            "Repository: 'deb https://ppa.launchpadcontent.net/longsleep/golang-backports/ubuntu/ jammy main'\n",
            "Description:\n",
            "Golang 1.12, 1.13, 1.14, 1.15, 1.16, 1.17, 1.18, 1.19, 1.20, 1.21, 1.22 and 1.23 PPA for Ubuntu\n",
            "\n",
            "See https://github.com/longsleep/golang-deb for the sources for the packages in this PPA and for reporting issues / change requests.\n",
            "More info: https://launchpad.net/~longsleep/+archive/ubuntu/golang-backports\n",
            "Adding repository.\n",
            "Adding deb entry to /etc/apt/sources.list.d/longsleep-ubuntu-golang-backports-jammy.list\n",
            "Adding disabled deb-src entry to /etc/apt/sources.list.d/longsleep-ubuntu-golang-backports-jammy.list\n",
            "Adding key to /etc/apt/trusted.gpg.d/longsleep-ubuntu-golang-backports.gpg with fingerprint 876B22BA887CA91614B5323FC631127F87FA12D1\n",
            "Get:1 https://cloud.r-project.org/bin/linux/ubuntu jammy-cran40/ InRelease [3,626 B]\n",
            "Hit:2 https://developer.download.nvidia.com/compute/cuda/repos/ubuntu2204/x86_64  InRelease\n",
            "Get:3 http://security.ubuntu.com/ubuntu jammy-security InRelease [129 kB]\n",
            "Ign:4 https://r2u.stat.illinois.edu/ubuntu jammy InRelease\n",
            "Get:5 https://r2u.stat.illinois.edu/ubuntu jammy Release [5,713 B]\n",
            "Hit:6 http://archive.ubuntu.com/ubuntu jammy InRelease\n",
            "Get:7 https://r2u.stat.illinois.edu/ubuntu jammy Release.gpg [793 B]\n",
            "Get:8 http://archive.ubuntu.com/ubuntu jammy-updates InRelease [128 kB]\n",
            "Hit:9 https://ppa.launchpadcontent.net/deadsnakes/ppa/ubuntu jammy InRelease\n",
            "Hit:10 https://ppa.launchpadcontent.net/graphics-drivers/ppa/ubuntu jammy InRelease\n",
            "Get:11 https://r2u.stat.illinois.edu/ubuntu jammy/main amd64 Packages [2,592 kB]\n",
            "Get:12 https://ppa.launchpadcontent.net/longsleep/golang-backports/ubuntu jammy InRelease [18.3 kB]\n",
            "Hit:13 http://archive.ubuntu.com/ubuntu jammy-backports InRelease\n",
            "Hit:14 https://ppa.launchpadcontent.net/ubuntugis/ppa/ubuntu jammy InRelease\n",
            "Get:15 http://security.ubuntu.com/ubuntu jammy-security/universe amd64 Packages [1,160 kB]\n",
            "Get:16 https://r2u.stat.illinois.edu/ubuntu jammy/main all Packages [8,384 kB]\n",
            "Get:17 http://security.ubuntu.com/ubuntu jammy-security/main amd64 Packages [2,326 kB]\n",
            "Get:18 http://archive.ubuntu.com/ubuntu jammy-updates/universe amd64 Packages [1,449 kB]\n",
            "Get:19 https://ppa.launchpadcontent.net/longsleep/golang-backports/ubuntu jammy/main amd64 Packages [6,682 B]\n",
            "Get:20 http://archive.ubuntu.com/ubuntu jammy-updates/main amd64 Packages [2,602 kB]\n",
            "Fetched 18.8 MB in 3s (5,627 kB/s)\n",
            "Reading package lists... Done\n",
            "W: Skipping acquire of configured file 'main/source/Sources' as repository 'https://r2u.stat.illinois.edu/ubuntu jammy InRelease' does not seem to provide it (sources.list entry misspelt?)\n",
            "Hit:1 https://cloud.r-project.org/bin/linux/ubuntu jammy-cran40/ InRelease\n",
            "Hit:2 https://developer.download.nvidia.com/compute/cuda/repos/ubuntu2204/x86_64  InRelease\n",
            "Hit:3 http://archive.ubuntu.com/ubuntu jammy InRelease\n",
            "Ign:4 https://r2u.stat.illinois.edu/ubuntu jammy InRelease\n",
            "Hit:5 https://r2u.stat.illinois.edu/ubuntu jammy Release\n",
            "Hit:6 http://archive.ubuntu.com/ubuntu jammy-updates InRelease\n",
            "Hit:8 http://archive.ubuntu.com/ubuntu jammy-backports InRelease\n",
            "Hit:9 https://ppa.launchpadcontent.net/deadsnakes/ppa/ubuntu jammy InRelease\n",
            "Hit:10 https://ppa.launchpadcontent.net/graphics-drivers/ppa/ubuntu jammy InRelease\n",
            "Hit:11 http://security.ubuntu.com/ubuntu jammy-security InRelease\n",
            "Hit:12 https://ppa.launchpadcontent.net/longsleep/golang-backports/ubuntu jammy InRelease\n",
            "Hit:13 https://ppa.launchpadcontent.net/ubuntugis/ppa/ubuntu jammy InRelease\n",
            "Reading package lists... Done\n",
            "Building dependency tree... Done\n",
            "Reading state information... Done\n",
            "51 packages can be upgraded. Run 'apt list --upgradable' to see them.\n",
            "\u001b[1;33mW: \u001b[0mSkipping acquire of configured file 'main/source/Sources' as repository 'https://r2u.stat.illinois.edu/ubuntu jammy InRelease' does not seem to provide it (sources.list entry misspelt?)\u001b[0m\n",
            "Reading package lists... Done\n",
            "Building dependency tree... Done\n",
            "Reading state information... Done\n",
            "The following additional packages will be installed:\n",
            "  golang-1.23-go golang-1.23-src golang-src\n",
            "Suggested packages:\n",
            "  bzr | brz mercurial subversion\n",
            "The following NEW packages will be installed:\n",
            "  golang-1.23-go golang-1.23-src golang-go golang-src\n",
            "0 upgraded, 4 newly installed, 0 to remove and 51 not upgraded.\n",
            "Need to get 46.2 MB of archives.\n",
            "After this operation, 242 MB of additional disk space will be used.\n",
            "Get:1 https://ppa.launchpadcontent.net/longsleep/golang-backports/ubuntu jammy/main amd64 golang-1.23-src all 1.23.2-1longsleep1+focal [19.1 MB]\n",
            "Get:2 https://ppa.launchpadcontent.net/longsleep/golang-backports/ubuntu jammy/main amd64 golang-1.23-go amd64 1.23.2-1longsleep1+focal [27.0 MB]\n",
            "Get:3 https://ppa.launchpadcontent.net/longsleep/golang-backports/ubuntu jammy/main amd64 golang-src all 2:1.23~0longsleep1 [6,184 B]\n",
            "Get:4 https://ppa.launchpadcontent.net/longsleep/golang-backports/ubuntu jammy/main amd64 golang-go amd64 2:1.23~0longsleep1 [45.4 kB]\n",
            "Fetched 46.2 MB in 1min 8s (681 kB/s)\n",
            "Selecting previously unselected package golang-1.23-src.\n",
            "(Reading database ... 123621 files and directories currently installed.)\n",
            "Preparing to unpack .../golang-1.23-src_1.23.2-1longsleep1+focal_all.deb ...\n",
            "Unpacking golang-1.23-src (1.23.2-1longsleep1+focal) ...\n",
            "Selecting previously unselected package golang-1.23-go.\n",
            "Preparing to unpack .../golang-1.23-go_1.23.2-1longsleep1+focal_amd64.deb ...\n",
            "Unpacking golang-1.23-go (1.23.2-1longsleep1+focal) ...\n",
            "Selecting previously unselected package golang-src.\n",
            "Preparing to unpack .../golang-src_2%3a1.23~0longsleep1_all.deb ...\n",
            "Unpacking golang-src (2:1.23~0longsleep1) ...\n",
            "Selecting previously unselected package golang-go:amd64.\n",
            "Preparing to unpack .../golang-go_2%3a1.23~0longsleep1_amd64.deb ...\n",
            "Unpacking golang-go:amd64 (2:1.23~0longsleep1) ...\n",
            "Setting up golang-1.23-src (1.23.2-1longsleep1+focal) ...\n",
            "Setting up golang-src (2:1.23~0longsleep1) ...\n",
            "Setting up golang-1.23-go (1.23.2-1longsleep1+focal) ...\n",
            "Setting up golang-go:amd64 (2:1.23~0longsleep1) ...\n",
            "Processing triggers for man-db (2.10.2-1) ...\n",
            "env: GOPATH=/root/go\n",
            "go: downloading github.com/gopherdata/gophernotes v0.7.5\n",
            "go: downloading github.com/cosmos72/gomacro v0.0.0-20220530072503-c719ab5c40fc\n",
            "go: downloading github.com/cosmos72/gomacro v0.0.0-20240506194242-2ff796e3da10\n",
            "go: downloading github.com/go-zeromq/zmq4 v0.14.1\n",
            "go: downloading github.com/go-zeromq/zmq4 v0.17.0\n",
            "go: downloading github.com/gofrs/uuid v4.2.0+incompatible\n",
            "go: downloading github.com/gofrs/uuid v4.4.0+incompatible\n",
            "go: downloading github.com/peterh/liner v1.2.1\n",
            "go: downloading github.com/peterh/liner v1.2.2\n",
            "go: downloading github.com/go-zeromq/goczmq/v4 v4.2.2\n",
            "go: downloading github.com/go-zeromq/goczmq v4.1.0+incompatible\n",
            "go: downloading golang.org/x/sync v0.0.0-20210220032951-036812b2e83c\n",
            "go: downloading golang.org/x/sync v0.8.0\n",
            "go: downloading golang.org/x/tools v0.1.8\n",
            "go: downloading github.com/mattn/go-runewidth v0.0.13\n",
            "go: downloading github.com/mattn/go-runewidth v0.0.16\n",
            "go: downloading golang.org/x/tools v0.26.0\n",
            "go: downloading github.com/rivo/uniseg v0.2.0\n",
            "go: downloading golang.org/x/sys v0.0.0-20211019181941-9d821ace8654\n",
            "go: downloading github.com/rivo/uniseg v0.4.7\n",
            "go: downloading golang.org/x/xerrors v0.0.0-20200804184101-5ec99f83aff1\n",
            "go: downloading golang.org/x/sys v0.26.0\n",
            "go: downloading golang.org/x/xerrors v0.0.0-20240903120638-7835f813f4da\n",
            "go: downloading golang.org/x/mod v0.5.1\n",
            "go: downloading golang.org/x/mod v0.21.0\n",
            "go: downloading golang.org/x/text v0.15.0\n",
            "go: downloading golang.org/x/text v0.19.0\n",
            "go: downloading github.com/google/go-cmp v0.6.0\n",
            "go: upgraded go 1.17 => 1.22.0\n",
            "go: added toolchain go1.23.2\n",
            "go: added github.com/cosmos72/gomacro v0.0.0-20240506194242-2ff796e3da10\n",
            "go: added github.com/go-zeromq/goczmq/v4 v4.2.2\n",
            "go: added github.com/go-zeromq/zmq4 v0.17.0\n",
            "go: added github.com/gofrs/uuid v4.4.0+incompatible\n",
            "go: added github.com/gopherdata/gophernotes v0.7.5\n",
            "go: added github.com/mattn/go-runewidth v0.0.16\n",
            "go: added github.com/peterh/liner v1.2.2\n",
            "go: added github.com/rivo/uniseg v0.4.7\n",
            "go: added golang.org/x/mod v0.21.0\n",
            "go: added golang.org/x/sync v0.8.0\n",
            "go: added golang.org/x/sys v0.26.0\n",
            "go: added golang.org/x/text v0.19.0\n",
            "go: added golang.org/x/tools v0.26.0\n",
            "go: added golang.org/x/xerrors v0.0.0-20240903120638-7835f813f4da\n",
            "cp: cannot stat '/root/go/bin/gophernotes': No such file or directory\n",
            "cp: cannot stat '/root/go/src/github.com/gopherdata/gophernotes/kernel/*': No such file or directory\n"
          ]
        }
      ]
    },
    {
      "cell_type": "code",
      "source": [
        "!mv /content/config.json /content/HRA-Downloader"
      ],
      "metadata": {
        "id": "wBoclKNmvtz0"
      },
      "execution_count": null,
      "outputs": []
    },
    {
      "cell_type": "code",
      "source": [
        "!go run main.go structs.go https://www.highresaudio.com/en/album/view/fq5fjq/metallica-st-anger-remastered"
      ],
      "metadata": {
        "colab": {
          "base_uri": "https://localhost:8080/"
        },
        "id": "6o81wcJKwpRS",
        "outputId": "1d96f0c2-c9c9-47b9-9e07-6eefe1a84cbe"
      },
      "execution_count": null,
      "outputs": [
        {
          "output_type": "stream",
          "name": "stdout",
          "text": [
            "go: downloading github.com/alexflint/go-arg v1.4.2\n",
            "go: downloading github.com/dustin/go-humanize v1.0.0\n",
            "go: downloading github.com/go-flac/flacpicture v0.2.0\n",
            "go: downloading github.com/go-flac/flacvorbis v0.1.0\n",
            "go: downloading github.com/go-flac/go-flac v0.3.1\n",
            "go: downloading github.com/alexflint/go-scalar v1.0.0\n",
            "                                                           \n",
            " _____ _____ _____    ____                _           _         \n",
            "|  |  | __  |  _  |  |    \\ ___ _ _ _ ___| |___ ___ _| |___ ___ \n",
            "|     |    -|     |  |  |  | . | | | |   | | . | .'| . | -_|  _|\n",
            "|__|__|__|__|__|__|  |____/|___|_____|_|_|_|___|__,|___|___|_| \n",
            "\n",
            "Signed in successfully.\n",
            "\n",
            "Album 1 of 1:\n",
            "Metallica - St. Anger (Remastered)\n",
            "Downloading track 1 of 11: Frantic - 88.2 kHz FLAC\n",
            "100%, 135 MB/135 MB \n",
            "Downloading track 2 of 11: St. Anger - 88.2 kHz FLAC\n",
            "100%, 172 MB/172 MB \n",
            "Downloading track 3 of 11: Some Kind Of Monster - 88.2 kHz FLAC\n",
            "100%, 193 MB/193 MB \n",
            "Downloading track 4 of 11: Dirty Window - 88.2 kHz FLAC\n",
            "100%, 126 MB/126 MB \n",
            "Downloading track 5 of 11: Invisible Kid - 88.2 kHz FLAC\n",
            "100%, 193 MB/193 MB \n",
            "Downloading track 6 of 11: My World - 88.2 kHz FLAC\n",
            "100%, 132 MB/132 MB \n",
            "Downloading track 7 of 11: Shoot Me Again - 88.2 kHz FLAC\n",
            "100%, 165 MB/165 MB \n",
            "Downloading track 8 of 11: Sweet Amber - 88.2 kHz FLAC\n",
            "100%, 123 MB/123 MB \n",
            "Downloading track 9 of 11: The Unnamed Feeling - 88.2 kHz FLAC\n",
            "17%, 28 MB/156 MB "
          ]
        }
      ]
    }
  ]
}